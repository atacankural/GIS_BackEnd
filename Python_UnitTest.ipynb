{
 "cells": [
  {
   "cell_type": "code",
   "execution_count": 4,
   "id": "e05e56fc",
   "metadata": {},
   "outputs": [],
   "source": [
    "import unittest\n",
    "import psycopg2"
   ]
  },
  {
   "cell_type": "code",
   "execution_count": 3,
   "id": "04362b53",
   "metadata": {},
   "outputs": [
    {
     "name": "stderr",
     "output_type": "stream",
     "text": [
      "....\n",
      "----------------------------------------------------------------------\n",
      "Ran 4 tests in 0.004s\n",
      "\n",
      "OK\n"
     ]
    }
   ],
   "source": [
    "\n",
    "def add(x, y):\n",
    "    return x + y\n",
    "\n",
    "class TestAddFunction(unittest.TestCase):\n",
    "\n",
    "    def test_addition(self):\n",
    "        self.assertEqual(add(5, 7), 12)\n",
    "\n",
    "    def test_addition_incorrect(self):\n",
    "        self.assertNotEqual(add(5, 5), 11)\n",
    "\n",
    "\n",
    "if __name__ == '__main__':\n",
    "    unittest.main(argv=['first-arg-is-ignored'], exit=False)\n",
    "\n",
    "\n"
   ]
  },
  {
   "cell_type": "code",
   "execution_count": 11,
   "id": "81fa4ddf",
   "metadata": {},
   "outputs": [
    {
     "name": "stderr",
     "output_type": "stream",
     "text": [
      ".....\n",
      "----------------------------------------------------------------------\n",
      "Ran 5 tests in 0.062s\n",
      "\n",
      "OK\n"
     ]
    }
   ],
   "source": [
    "\n",
    "\n",
    "class TestSpatialDatabase(unittest.TestCase):\n",
    "    def setUp(self):\n",
    "        self.conn = psycopg2.connect(\n",
    "            host=\"localhost\",\n",
    "            database=\"postgres\",\n",
    "            user=\"postgres\",\n",
    "            password=123456)\n",
    "        self.cur = self.conn.cursor()\n",
    "\n",
    "    def test_point_within_polygon(self):\n",
    "        # PostGIS sorgusu ile bir noktanın bir poligonun içinde olup olmadığını kontrol edin\n",
    "        self.cur.execute(\"\"\"\n",
    "        SELECT ST_Within(\n",
    "            ST_SetSRID(ST_MakePoint(1, 1), 4326),\n",
    "            ST_GeomFromText('POLYGON((0 0, 2 0, 2 2, 0 2, 0 0))', 4326)\n",
    "        );\n",
    "    \"\"\")\n",
    "        result = self.cur.fetchone()\n",
    "        self.assertTrue(result[0])  # Beklenen sonuç True\n",
    "\n",
    "    def tearDown(self):\n",
    "        self.cur.close()\n",
    "        self.conn.close()\n",
    "\n",
    "if __name__ == '__main__':\n",
    "    unittest.main(argv=['first-arg-is-ignored'], exit=False)\n"
   ]
  },
  {
   "cell_type": "code",
   "execution_count": null,
   "id": "1ca4c2cc",
   "metadata": {},
   "outputs": [],
   "source": []
  }
 ],
 "metadata": {
  "kernelspec": {
   "display_name": "Python 3 (ipykernel)",
   "language": "python",
   "name": "python3"
  },
  "language_info": {
   "codemirror_mode": {
    "name": "ipython",
    "version": 3
   },
   "file_extension": ".py",
   "mimetype": "text/x-python",
   "name": "python",
   "nbconvert_exporter": "python",
   "pygments_lexer": "ipython3",
   "version": "3.10.9"
  }
 },
 "nbformat": 4,
 "nbformat_minor": 5
}
