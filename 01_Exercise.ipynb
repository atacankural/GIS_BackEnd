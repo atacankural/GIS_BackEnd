{
 "cells": [
  {
   "cell_type": "code",
   "execution_count": 3,
   "id": "2ad5eeaf",
   "metadata": {},
   "outputs": [
    {
     "name": "stdout",
     "output_type": "stream",
     "text": [
      "Requirement already satisfied: geopandas in c:\\users\\ataca\\anaconda3\\lib\\site-packages (0.13.0)\n",
      "Requirement already satisfied: pandas>=1.1.0 in c:\\users\\ataca\\anaconda3\\lib\\site-packages (from geopandas) (1.5.3)\n",
      "Requirement already satisfied: shapely>=1.7.1 in c:\\users\\ataca\\anaconda3\\lib\\site-packages (from geopandas) (2.0.1)\n",
      "Requirement already satisfied: fiona>=1.8.19 in c:\\users\\ataca\\anaconda3\\lib\\site-packages (from geopandas) (1.9.3)\n",
      "Requirement already satisfied: pyproj>=3.0.1 in c:\\users\\ataca\\anaconda3\\lib\\site-packages (from geopandas) (3.5.0)\n",
      "Requirement already satisfied: packaging in c:\\users\\ataca\\anaconda3\\lib\\site-packages (from geopandas) (22.0)\n",
      "Requirement already satisfied: click~=8.0 in c:\\users\\ataca\\anaconda3\\lib\\site-packages (from fiona>=1.8.19->geopandas) (8.0.4)\n",
      "Requirement already satisfied: certifi in c:\\users\\ataca\\anaconda3\\lib\\site-packages (from fiona>=1.8.19->geopandas) (2022.12.7)\n",
      "Requirement already satisfied: click-plugins>=1.0 in c:\\users\\ataca\\anaconda3\\lib\\site-packages (from fiona>=1.8.19->geopandas) (1.1.1)\n",
      "Requirement already satisfied: munch>=2.3.2 in c:\\users\\ataca\\anaconda3\\lib\\site-packages (from fiona>=1.8.19->geopandas) (2.5.0)\n",
      "Requirement already satisfied: attrs>=19.2.0 in c:\\users\\ataca\\anaconda3\\lib\\site-packages (from fiona>=1.8.19->geopandas) (22.1.0)\n",
      "Requirement already satisfied: cligj>=0.5 in c:\\users\\ataca\\anaconda3\\lib\\site-packages (from fiona>=1.8.19->geopandas) (0.7.2)\n",
      "Requirement already satisfied: numpy>=1.21.0 in c:\\users\\ataca\\anaconda3\\lib\\site-packages (from pandas>=1.1.0->geopandas) (1.23.5)\n",
      "Requirement already satisfied: python-dateutil>=2.8.1 in c:\\users\\ataca\\anaconda3\\lib\\site-packages (from pandas>=1.1.0->geopandas) (2.8.2)\n",
      "Requirement already satisfied: pytz>=2020.1 in c:\\users\\ataca\\anaconda3\\lib\\site-packages (from pandas>=1.1.0->geopandas) (2022.7)\n",
      "Requirement already satisfied: colorama in c:\\users\\ataca\\anaconda3\\lib\\site-packages (from click~=8.0->fiona>=1.8.19->geopandas) (0.4.6)\n",
      "Requirement already satisfied: six in c:\\users\\ataca\\anaconda3\\lib\\site-packages (from munch>=2.3.2->fiona>=1.8.19->geopandas) (1.16.0)\n"
     ]
    }
   ],
   "source": [
    "!pip install geopandas\n"
   ]
  },
  {
   "cell_type": "code",
   "execution_count": 6,
   "id": "37c43b80",
   "metadata": {},
   "outputs": [
    {
     "name": "stdout",
     "output_type": "stream",
     "text": [
      "Requirement already satisfied: glob2 in c:\\users\\ataca\\anaconda3\\lib\\site-packages (0.7)\n"
     ]
    }
   ],
   "source": [
    "!pip install glob2"
   ]
  },
  {
   "cell_type": "code",
   "execution_count": 11,
   "id": "4dd845c0",
   "metadata": {},
   "outputs": [],
   "source": [
    "import pandas as pd\n",
    "import geopandas as gpd\n",
    "\n",
    "from glob import glob"
   ]
  },
  {
   "cell_type": "code",
   "execution_count": 16,
   "id": "332518e6",
   "metadata": {},
   "outputs": [
    {
     "data": {
      "text/plain": [
       "1"
      ]
     },
     "execution_count": 16,
     "metadata": {},
     "output_type": "execute_result"
    }
   ],
   "source": [
    "files = glob(\"data/*.csv\")\n",
    "len(files)"
   ]
  },
  {
   "cell_type": "code",
   "execution_count": 17,
   "id": "b52c3c34",
   "metadata": {},
   "outputs": [],
   "source": [
    "file = files[0]"
   ]
  },
  {
   "cell_type": "code",
   "execution_count": 18,
   "id": "0d6d2f66",
   "metadata": {},
   "outputs": [],
   "source": [
    "df = pd.read_csv(file)"
   ]
  },
  {
   "cell_type": "code",
   "execution_count": 19,
   "id": "c1fb7586",
   "metadata": {},
   "outputs": [
    {
     "data": {
      "text/html": [
       "<div>\n",
       "<style scoped>\n",
       "    .dataframe tbody tr th:only-of-type {\n",
       "        vertical-align: middle;\n",
       "    }\n",
       "\n",
       "    .dataframe tbody tr th {\n",
       "        vertical-align: top;\n",
       "    }\n",
       "\n",
       "    .dataframe thead th {\n",
       "        text-align: right;\n",
       "    }\n",
       "</style>\n",
       "<table border=\"1\" class=\"dataframe\">\n",
       "  <thead>\n",
       "    <tr style=\"text-align: right;\">\n",
       "      <th></th>\n",
       "      <th>Unnamed: 0</th>\n",
       "      <th>name</th>\n",
       "      <th>iata</th>\n",
       "      <th>icao</th>\n",
       "      <th>lat</th>\n",
       "      <th>lon</th>\n",
       "      <th>country</th>\n",
       "      <th>alt</th>\n",
       "    </tr>\n",
       "  </thead>\n",
       "  <tbody>\n",
       "    <tr>\n",
       "      <th>0</th>\n",
       "      <td>0</td>\n",
       "      <td>A Coruna Airport</td>\n",
       "      <td>LCG</td>\n",
       "      <td>LECO</td>\n",
       "      <td>43.302059</td>\n",
       "      <td>-8.377250</td>\n",
       "      <td>Spain</td>\n",
       "      <td>326</td>\n",
       "    </tr>\n",
       "    <tr>\n",
       "      <th>1</th>\n",
       "      <td>1</td>\n",
       "      <td>Aachen Merzbruck Airport</td>\n",
       "      <td>AAH</td>\n",
       "      <td>EDKA</td>\n",
       "      <td>50.823051</td>\n",
       "      <td>6.186111</td>\n",
       "      <td>Germany</td>\n",
       "      <td>623</td>\n",
       "    </tr>\n",
       "    <tr>\n",
       "      <th>2</th>\n",
       "      <td>2</td>\n",
       "      <td>Aalborg Airport</td>\n",
       "      <td>AAL</td>\n",
       "      <td>EKYT</td>\n",
       "      <td>57.092781</td>\n",
       "      <td>9.849164</td>\n",
       "      <td>Denmark</td>\n",
       "      <td>10</td>\n",
       "    </tr>\n",
       "    <tr>\n",
       "      <th>3</th>\n",
       "      <td>3</td>\n",
       "      <td>Aarhus Airport</td>\n",
       "      <td>AAR</td>\n",
       "      <td>EKAH</td>\n",
       "      <td>56.300011</td>\n",
       "      <td>10.619000</td>\n",
       "      <td>Denmark</td>\n",
       "      <td>82</td>\n",
       "    </tr>\n",
       "    <tr>\n",
       "      <th>4</th>\n",
       "      <td>4</td>\n",
       "      <td>Aarhus Sea Airport</td>\n",
       "      <td>QEA</td>\n",
       "      <td>EKAC</td>\n",
       "      <td>56.151993</td>\n",
       "      <td>10.247725</td>\n",
       "      <td>Denmark</td>\n",
       "      <td>1</td>\n",
       "    </tr>\n",
       "  </tbody>\n",
       "</table>\n",
       "</div>"
      ],
      "text/plain": [
       "   Unnamed: 0                      name iata  icao        lat        lon  \\\n",
       "0           0          A Coruna Airport  LCG  LECO  43.302059  -8.377250   \n",
       "1           1  Aachen Merzbruck Airport  AAH  EDKA  50.823051   6.186111   \n",
       "2           2           Aalborg Airport  AAL  EKYT  57.092781   9.849164   \n",
       "3           3            Aarhus Airport  AAR  EKAH  56.300011  10.619000   \n",
       "4           4        Aarhus Sea Airport  QEA  EKAC  56.151993  10.247725   \n",
       "\n",
       "   country  alt  \n",
       "0    Spain  326  \n",
       "1  Germany  623  \n",
       "2  Denmark   10  \n",
       "3  Denmark   82  \n",
       "4  Denmark    1  "
      ]
     },
     "execution_count": 19,
     "metadata": {},
     "output_type": "execute_result"
    }
   ],
   "source": [
    "df.head()"
   ]
  },
  {
   "cell_type": "code",
   "execution_count": 21,
   "id": "6b925afa",
   "metadata": {},
   "outputs": [],
   "source": [
    "gdf = gpd.GeoDataFrame(df, geometry= gpd.points_from_xy(df.lon, df.lat), crs=4326)"
   ]
  },
  {
   "cell_type": "code",
   "execution_count": 22,
   "id": "481de554",
   "metadata": {},
   "outputs": [
    {
     "data": {
      "text/html": [
       "<div>\n",
       "<style scoped>\n",
       "    .dataframe tbody tr th:only-of-type {\n",
       "        vertical-align: middle;\n",
       "    }\n",
       "\n",
       "    .dataframe tbody tr th {\n",
       "        vertical-align: top;\n",
       "    }\n",
       "\n",
       "    .dataframe thead th {\n",
       "        text-align: right;\n",
       "    }\n",
       "</style>\n",
       "<table border=\"1\" class=\"dataframe\">\n",
       "  <thead>\n",
       "    <tr style=\"text-align: right;\">\n",
       "      <th></th>\n",
       "      <th>Unnamed: 0</th>\n",
       "      <th>name</th>\n",
       "      <th>iata</th>\n",
       "      <th>icao</th>\n",
       "      <th>lat</th>\n",
       "      <th>lon</th>\n",
       "      <th>country</th>\n",
       "      <th>alt</th>\n",
       "      <th>geometry</th>\n",
       "    </tr>\n",
       "  </thead>\n",
       "  <tbody>\n",
       "    <tr>\n",
       "      <th>0</th>\n",
       "      <td>0</td>\n",
       "      <td>A Coruna Airport</td>\n",
       "      <td>LCG</td>\n",
       "      <td>LECO</td>\n",
       "      <td>43.302059</td>\n",
       "      <td>-8.377250</td>\n",
       "      <td>Spain</td>\n",
       "      <td>326</td>\n",
       "      <td>POINT (-8.37725 43.30206)</td>\n",
       "    </tr>\n",
       "    <tr>\n",
       "      <th>1</th>\n",
       "      <td>1</td>\n",
       "      <td>Aachen Merzbruck Airport</td>\n",
       "      <td>AAH</td>\n",
       "      <td>EDKA</td>\n",
       "      <td>50.823051</td>\n",
       "      <td>6.186111</td>\n",
       "      <td>Germany</td>\n",
       "      <td>623</td>\n",
       "      <td>POINT (6.18611 50.82305)</td>\n",
       "    </tr>\n",
       "    <tr>\n",
       "      <th>2</th>\n",
       "      <td>2</td>\n",
       "      <td>Aalborg Airport</td>\n",
       "      <td>AAL</td>\n",
       "      <td>EKYT</td>\n",
       "      <td>57.092781</td>\n",
       "      <td>9.849164</td>\n",
       "      <td>Denmark</td>\n",
       "      <td>10</td>\n",
       "      <td>POINT (9.84916 57.09278)</td>\n",
       "    </tr>\n",
       "    <tr>\n",
       "      <th>3</th>\n",
       "      <td>3</td>\n",
       "      <td>Aarhus Airport</td>\n",
       "      <td>AAR</td>\n",
       "      <td>EKAH</td>\n",
       "      <td>56.300011</td>\n",
       "      <td>10.619000</td>\n",
       "      <td>Denmark</td>\n",
       "      <td>82</td>\n",
       "      <td>POINT (10.61900 56.30001)</td>\n",
       "    </tr>\n",
       "    <tr>\n",
       "      <th>4</th>\n",
       "      <td>4</td>\n",
       "      <td>Aarhus Sea Airport</td>\n",
       "      <td>QEA</td>\n",
       "      <td>EKAC</td>\n",
       "      <td>56.151993</td>\n",
       "      <td>10.247725</td>\n",
       "      <td>Denmark</td>\n",
       "      <td>1</td>\n",
       "      <td>POINT (10.24773 56.15199)</td>\n",
       "    </tr>\n",
       "  </tbody>\n",
       "</table>\n",
       "</div>"
      ],
      "text/plain": [
       "   Unnamed: 0                      name iata  icao        lat        lon  \\\n",
       "0           0          A Coruna Airport  LCG  LECO  43.302059  -8.377250   \n",
       "1           1  Aachen Merzbruck Airport  AAH  EDKA  50.823051   6.186111   \n",
       "2           2           Aalborg Airport  AAL  EKYT  57.092781   9.849164   \n",
       "3           3            Aarhus Airport  AAR  EKAH  56.300011  10.619000   \n",
       "4           4        Aarhus Sea Airport  QEA  EKAC  56.151993  10.247725   \n",
       "\n",
       "   country  alt                   geometry  \n",
       "0    Spain  326  POINT (-8.37725 43.30206)  \n",
       "1  Germany  623   POINT (6.18611 50.82305)  \n",
       "2  Denmark   10   POINT (9.84916 57.09278)  \n",
       "3  Denmark   82  POINT (10.61900 56.30001)  \n",
       "4  Denmark    1  POINT (10.24773 56.15199)  "
      ]
     },
     "execution_count": 22,
     "metadata": {},
     "output_type": "execute_result"
    }
   ],
   "source": [
    "gdf.head()"
   ]
  },
  {
   "cell_type": "code",
   "execution_count": 24,
   "id": "056b8e2e",
   "metadata": {},
   "outputs": [
    {
     "name": "stdout",
     "output_type": "stream",
     "text": [
      "Collecting psycopg2\n",
      "  Downloading psycopg2-2.9.6-cp310-cp310-win_amd64.whl (1.2 MB)\n",
      "     ---------------------------------------- 1.2/1.2 MB 433.5 kB/s eta 0:00:00\n",
      "Installing collected packages: psycopg2\n",
      "Successfully installed psycopg2-2.9.6\n"
     ]
    }
   ],
   "source": [
    "!pip install psycopg2\n",
    "\n"
   ]
  },
  {
   "cell_type": "code",
   "execution_count": 27,
   "id": "9036f9ed",
   "metadata": {},
   "outputs": [
    {
     "name": "stdout",
     "output_type": "stream",
     "text": [
      "Collecting geoalchemy2\n",
      "  Downloading GeoAlchemy2-0.13.2-py3-none-any.whl (43 kB)\n",
      "     ---------------------------------------- 43.0/43.0 kB 1.1 MB/s eta 0:00:00\n",
      "Requirement already satisfied: packaging in c:\\users\\ataca\\anaconda3\\lib\\site-packages (from geoalchemy2) (22.0)\n",
      "Requirement already satisfied: SQLAlchemy>=1.4 in c:\\users\\ataca\\anaconda3\\lib\\site-packages (from geoalchemy2) (1.4.39)\n",
      "Requirement already satisfied: greenlet!=0.4.17 in c:\\users\\ataca\\anaconda3\\lib\\site-packages (from SQLAlchemy>=1.4->geoalchemy2) (2.0.1)\n",
      "Installing collected packages: geoalchemy2\n",
      "Successfully installed geoalchemy2-0.13.2\n"
     ]
    }
   ],
   "source": [
    "!pip install geoalchemy2\n"
   ]
  },
  {
   "cell_type": "code",
   "execution_count": 32,
   "id": "78d5d91b",
   "metadata": {},
   "outputs": [],
   "source": [
    "from sqlalchemy import create_engine\n",
    "\n",
    "# User informations\n",
    "hostname = 'localhost'  # PostgreSQL sunucusunun adresi\n",
    "username = 'postgres'  # PostgreSQL kullanıcı adı\n",
    "password = '123456'  # PostgreSQL şifre\n",
    "database = 'postgres'  # Bağlanmak istediğiniz veritabanının adı\n",
    "\n",
    "# Create a database url\n",
    "db_url = f'postgresql://{username}:{password}@{hostname}/{database}'\n",
    "\n",
    "# create an engine\n",
    "engine = create_engine(db_url)\n",
    "\n",
    "\n"
   ]
  },
  {
   "cell_type": "code",
   "execution_count": 33,
   "id": "53b0ebcd",
   "metadata": {
    "scrolled": true
   },
   "outputs": [],
   "source": [
    "gdf.to_postgis(\"flights\", engine)"
   ]
  },
  {
   "cell_type": "code",
   "execution_count": null,
   "id": "3bf763f7",
   "metadata": {},
   "outputs": [],
   "source": []
  }
 ],
 "metadata": {
  "kernelspec": {
   "display_name": "Python 3 (ipykernel)",
   "language": "python",
   "name": "python3"
  },
  "language_info": {
   "codemirror_mode": {
    "name": "ipython",
    "version": 3
   },
   "file_extension": ".py",
   "mimetype": "text/x-python",
   "name": "python",
   "nbconvert_exporter": "python",
   "pygments_lexer": "ipython3",
   "version": "3.10.9"
  }
 },
 "nbformat": 4,
 "nbformat_minor": 5
}
